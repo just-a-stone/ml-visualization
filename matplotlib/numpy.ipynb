{
 "cells": [
  {
   "cell_type": "code",
   "execution_count": 1,
   "metadata": {
    "collapsed": true
   },
   "outputs": [],
   "source": [
    "import numpy as np\n",
    "import pandas as pd\n",
    "import matplotlib.pyplot as plt\n",
    "\n",
    "%matplotlib inline"
   ]
  },
  {
   "cell_type": "markdown",
   "metadata": {},
   "source": [
    "## 数组对象"
   ]
  },
  {
   "cell_type": "markdown",
   "metadata": {},
   "source": [
    "### 1. 向量加法"
   ]
  },
  {
   "cell_type": "code",
   "execution_count": 2,
   "metadata": {
    "collapsed": true
   },
   "outputs": [],
   "source": [
    "def numpySum(n):\n",
    "    a = np.arange(n) ** 2\n",
    "    b = np.arange(n) ** 3\n",
    "    c = a + b\n",
    "    return c"
   ]
  },
  {
   "cell_type": "code",
   "execution_count": 6,
   "metadata": {},
   "outputs": [
    {
     "name": "stdout",
     "output_type": "stream",
     "text": [
      "[0 2]\n"
     ]
    }
   ],
   "source": [
    "tmp = numpySum(3)\n",
    "print(tmp[0:-1])"
   ]
  },
  {
   "cell_type": "markdown",
   "metadata": {},
   "source": [
    "## numpy基础"
   ]
  },
  {
   "cell_type": "markdown",
   "metadata": {},
   "source": [
    "### 2.1 numpy数组对象"
   ]
  },
  {
   "cell_type": "code",
   "execution_count": 7,
   "metadata": {},
   "outputs": [
    {
     "data": {
      "text/plain": [
       "dtype('int32')"
      ]
     },
     "execution_count": 7,
     "metadata": {},
     "output_type": "execute_result"
    }
   ],
   "source": [
    "a = np.arange(5)\n",
    "a.dtype"
   ]
  },
  {
   "cell_type": "code",
   "execution_count": 8,
   "metadata": {},
   "outputs": [
    {
     "name": "stdout",
     "output_type": "stream",
     "text": [
      "[0 1 2 3 4]\n",
      "(5,)\n"
     ]
    }
   ],
   "source": [
    "print(a)\n",
    "print(a.shape)"
   ]
  },
  {
   "cell_type": "markdown",
   "metadata": {},
   "source": [
    "### 2.2 多维数组"
   ]
  },
  {
   "cell_type": "code",
   "execution_count": 9,
   "metadata": {
    "collapsed": true
   },
   "outputs": [],
   "source": [
    "a = np.array([np.arange(2), np.arange(2)])"
   ]
  },
  {
   "cell_type": "code",
   "execution_count": 11,
   "metadata": {},
   "outputs": [
    {
     "name": "stdout",
     "output_type": "stream",
     "text": [
      "[[0 1]\n",
      " [0 1]]\n",
      "shape (2, 2)\n"
     ]
    }
   ],
   "source": [
    "print(a)\n",
    "print(\"shape\", a.shape)"
   ]
  },
  {
   "cell_type": "code",
   "execution_count": 13,
   "metadata": {},
   "outputs": [
    {
     "name": "stdout",
     "output_type": "stream",
     "text": [
      "数据类型 int32\n",
      "4\n"
     ]
    }
   ],
   "source": [
    "# 数据类型，单个元素占用字节数\n",
    "print('数据类型', a.dtype)\n",
    "print(a.dtype.itemsize)"
   ]
  },
  {
   "cell_type": "code",
   "execution_count": 15,
   "metadata": {},
   "outputs": [
    {
     "name": "stdout",
     "output_type": "stream",
     "text": [
      "d\n",
      "<class 'numpy.float64'>\n"
     ]
    }
   ],
   "source": [
    "t = np.dtype('f8')\n",
    "print(t.char)\n",
    "print(t.type)"
   ]
  },
  {
   "cell_type": "markdown",
   "metadata": {},
   "source": [
    "### 2.3 自定义数据类型\n",
    "> 定义一个对象：例如商品（id,name,desc...）"
   ]
  },
  {
   "cell_type": "code",
   "execution_count": 17,
   "metadata": {
    "collapsed": true
   },
   "outputs": [],
   "source": [
    "t = np.dtype([('name', np.str_, 40), ('numitems', np.int32), ('price', np.float32)])"
   ]
  },
  {
   "cell_type": "code",
   "execution_count": 19,
   "metadata": {},
   "outputs": [
    {
     "data": {
      "text/plain": [
       "dtype([('name', '<U40'), ('numitems', '<i4'), ('price', '<f4')])"
      ]
     },
     "execution_count": 19,
     "metadata": {},
     "output_type": "execute_result"
    }
   ],
   "source": [
    "t"
   ]
  },
  {
   "cell_type": "code",
   "execution_count": 20,
   "metadata": {},
   "outputs": [
    {
     "data": {
      "text/plain": [
       "dtype('<U40')"
      ]
     },
     "execution_count": 20,
     "metadata": {},
     "output_type": "execute_result"
    }
   ],
   "source": [
    "t['name']"
   ]
  },
  {
   "cell_type": "code",
   "execution_count": 21,
   "metadata": {
    "collapsed": true
   },
   "outputs": [],
   "source": [
    "item = np.array([('meaning of life dvd', 42, 3.14),\n",
    "                ('butter', 13, 2.72)], dtype=t)"
   ]
  },
  {
   "cell_type": "code",
   "execution_count": 26,
   "metadata": {},
   "outputs": [
    {
     "name": "stdout",
     "output_type": "stream",
     "text": [
      "('butter', 13,  2.72000003)\n",
      "name: meaning of life dvd\n"
     ]
    }
   ],
   "source": [
    "print(item[1])\n",
    "print('name:', item[0]['name'])"
   ]
  },
  {
   "cell_type": "markdown",
   "metadata": {},
   "source": [
    "### 2.5 多维数组的切片和索引"
   ]
  },
  {
   "cell_type": "code",
   "execution_count": 28,
   "metadata": {
    "collapsed": true
   },
   "outputs": [],
   "source": [
    "b = np.arange(24).reshape(2,3,4)"
   ]
  },
  {
   "cell_type": "code",
   "execution_count": 29,
   "metadata": {},
   "outputs": [
    {
     "name": "stdout",
     "output_type": "stream",
     "text": [
      "(2, 3, 4)\n"
     ]
    }
   ],
   "source": [
    "print(b.shape)"
   ]
  },
  {
   "cell_type": "code",
   "execution_count": 30,
   "metadata": {},
   "outputs": [
    {
     "name": "stdout",
     "output_type": "stream",
     "text": [
      "[[[ 0  1  2  3]\n",
      "  [ 4  5  6  7]\n",
      "  [ 8  9 10 11]]\n",
      "\n",
      " [[12 13 14 15]\n",
      "  [16 17 18 19]\n",
      "  [20 21 22 23]]]\n"
     ]
    }
   ],
   "source": [
    "print(b[:,:,:])"
   ]
  },
  {
   "cell_type": "code",
   "execution_count": 35,
   "metadata": {},
   "outputs": [
    {
     "name": "stdout",
     "output_type": "stream",
     "text": [
      "[4 5 6 7]\n",
      "[4 6]\n"
     ]
    }
   ],
   "source": [
    "print(b[0, 1, ::1])\n",
    "print(b[0, 1, ::2])"
   ]
  },
  {
   "cell_type": "markdown",
   "metadata": {},
   "source": [
    "### 2.6 改变数组维度"
   ]
  },
  {
   "cell_type": "code",
   "execution_count": 42,
   "metadata": {},
   "outputs": [
    {
     "name": "stdout",
     "output_type": "stream",
     "text": [
      "[[[ 0  1  2  3]\n",
      "  [ 4  5  6  7]\n",
      "  [ 8  9 10 11]]\n",
      "\n",
      " [[12 13 14 15]\n",
      "  [16 17 18 19]\n",
      "  [20 21 22 23]]]\n"
     ]
    }
   ],
   "source": [
    "# ravel 将数组展平 ==返回原对象的引用，修改引用，影响原对象==\n",
    "b.ravel()\n",
    "print(b)"
   ]
  },
  {
   "cell_type": "code",
   "execution_count": 43,
   "metadata": {},
   "outputs": [
    {
     "data": {
      "text/plain": [
       "array([ 0,  1,  2,  3,  4,  5,  6,  7,  8,  9, 10, 11, 12, 13, 14, 15, 16,\n",
       "       17, 18, 19, 20, 21, 22, 23])"
      ]
     },
     "execution_count": 43,
     "metadata": {},
     "output_type": "execute_result"
    }
   ],
   "source": [
    "# flatten 将数组展平 ==返回新的对象==\n",
    "b.flatten()"
   ]
  },
  {
   "cell_type": "code",
   "execution_count": 50,
   "metadata": {},
   "outputs": [
    {
     "name": "stdout",
     "output_type": "stream",
     "text": [
      "[[ 0  1  2  3]\n",
      " [ 4  5  6  7]\n",
      " [ 8  9 10 11]\n",
      " [12 13 14 15]\n",
      " [16 17 18 19]\n",
      " [20 21 22 23]]\n"
     ]
    }
   ],
   "source": [
    "# 修改原始对象维度\n",
    "b.shape = (6,4)\n",
    "print(b)"
   ]
  },
  {
   "cell_type": "code",
   "execution_count": 49,
   "metadata": {},
   "outputs": [
    {
     "data": {
      "text/plain": [
       "array([[ 0,  4,  8, 12, 16, 20],\n",
       "       [ 1,  5,  9, 13, 17, 21],\n",
       "       [ 2,  6, 10, 14, 18, 22],\n",
       "       [ 3,  7, 11, 15, 19, 23]])"
      ]
     },
     "execution_count": 49,
     "metadata": {},
     "output_type": "execute_result"
    }
   ],
   "source": [
    "# 矩阵转置\n",
    "b.transpose()"
   ]
  },
  {
   "cell_type": "code",
   "execution_count": 53,
   "metadata": {},
   "outputs": [
    {
     "name": "stdout",
     "output_type": "stream",
     "text": [
      "[[ 0  1  2  3  4  5]\n",
      " [ 6  7  8  9 10 11]\n",
      " [12 13 14 15 16 17]\n",
      " [18 19 20 21 22 23]] [[ 0  1  2  3  4  5  6  7  8  9 10 11]\n",
      " [12 13 14 15 16 17 18 19 20 21 22 23]]\n",
      "[[ 0  1  2  3  4  5]\n",
      " [ 6  7  8  9 10 11]\n",
      " [12 13 14 15 16 17]\n",
      " [18 19 20 21 22 23]] None\n"
     ]
    }
   ],
   "source": [
    "# reshape 返回新的修改后对象 / resize 返回原始对象\n",
    "a = b.reshape(2, 12)\n",
    "print(b, a)\n",
    "\n",
    "a = b.resize(4,6)\n",
    "print(b, a)  # a = None"
   ]
  },
  {
   "cell_type": "markdown",
   "metadata": {},
   "source": [
    "### 2.8 组合数组"
   ]
  },
  {
   "cell_type": "code",
   "execution_count": 54,
   "metadata": {
    "collapsed": true
   },
   "outputs": [],
   "source": [
    "a = np.arange(9).reshape(3,3)"
   ]
  },
  {
   "cell_type": "code",
   "execution_count": 56,
   "metadata": {},
   "outputs": [
    {
     "name": "stdout",
     "output_type": "stream",
     "text": [
      "[[0 1 2]\n",
      " [3 4 5]\n",
      " [6 7 8]]\n"
     ]
    }
   ],
   "source": [
    "print(a)"
   ]
  },
  {
   "cell_type": "code",
   "execution_count": 57,
   "metadata": {},
   "outputs": [
    {
     "name": "stdout",
     "output_type": "stream",
     "text": [
      "[[ 0  2  4]\n",
      " [ 6  8 10]\n",
      " [12 14 16]]\n"
     ]
    }
   ],
   "source": [
    "b = 2 * a\n",
    "print(b)"
   ]
  },
  {
   "cell_type": "code",
   "execution_count": 58,
   "metadata": {},
   "outputs": [
    {
     "data": {
      "text/plain": [
       "array([[ 0,  1,  2,  0,  2,  4],\n",
       "       [ 3,  4,  5,  6,  8, 10],\n",
       "       [ 6,  7,  8, 12, 14, 16]])"
      ]
     },
     "execution_count": 58,
     "metadata": {},
     "output_type": "execute_result"
    }
   ],
   "source": [
    "# 水平组合, 增加第二个维度长度，其他不变\n",
    "np.hstack((a, b))"
   ]
  },
  {
   "cell_type": "code",
   "execution_count": 59,
   "metadata": {},
   "outputs": [
    {
     "data": {
      "text/plain": [
       "array([[ 0,  1,  2,  0,  2,  4],\n",
       "       [ 3,  4,  5,  6,  8, 10],\n",
       "       [ 6,  7,  8, 12, 14, 16]])"
      ]
     },
     "execution_count": 59,
     "metadata": {},
     "output_type": "execute_result"
    }
   ],
   "source": [
    "np.concatenate((a, b), axis=1)"
   ]
  },
  {
   "cell_type": "code",
   "execution_count": 60,
   "metadata": {},
   "outputs": [
    {
     "data": {
      "text/plain": [
       "array([[ 0,  1,  2],\n",
       "       [ 3,  4,  5],\n",
       "       [ 6,  7,  8],\n",
       "       [ 0,  2,  4],\n",
       "       [ 6,  8, 10],\n",
       "       [12, 14, 16]])"
      ]
     },
     "execution_count": 60,
     "metadata": {},
     "output_type": "execute_result"
    }
   ],
   "source": [
    "# 垂直组合, 增加第一个维度长度，其他不变\n",
    "np.vstack((a, b))"
   ]
  },
  {
   "cell_type": "code",
   "execution_count": 64,
   "metadata": {},
   "outputs": [
    {
     "data": {
      "text/plain": [
       "array([[ 0,  1,  2],\n",
       "       [ 3,  4,  5],\n",
       "       [ 6,  7,  8],\n",
       "       [ 0,  2,  4],\n",
       "       [ 6,  8, 10],\n",
       "       [12, 14, 16]])"
      ]
     },
     "execution_count": 64,
     "metadata": {},
     "output_type": "execute_result"
    }
   ],
   "source": [
    "np.concatenate((a, b), axis=0)"
   ]
  },
  {
   "cell_type": "code",
   "execution_count": 65,
   "metadata": {},
   "outputs": [
    {
     "data": {
      "text/plain": [
       "array([[[ 0,  0],\n",
       "        [ 1,  2],\n",
       "        [ 2,  4]],\n",
       "\n",
       "       [[ 3,  6],\n",
       "        [ 4,  8],\n",
       "        [ 5, 10]],\n",
       "\n",
       "       [[ 6, 12],\n",
       "        [ 7, 14],\n",
       "        [ 8, 16]]])"
      ]
     },
     "execution_count": 65,
     "metadata": {},
     "output_type": "execute_result"
    }
   ],
   "source": [
    "# 深度组合, 增加了一个维度，并在最小维度上1 1 对应\n",
    "np.dstack((a,b))"
   ]
  },
  {
   "cell_type": "code",
   "execution_count": 66,
   "metadata": {},
   "outputs": [
    {
     "name": "stdout",
     "output_type": "stream",
     "text": [
      "[0 1]\n"
     ]
    }
   ],
   "source": [
    "# 列组合\n",
    "# 对于一维数组，按列方向组合\n",
    "oned = np.arange(2)\n",
    "print(oned)"
   ]
  },
  {
   "cell_type": "code",
   "execution_count": 67,
   "metadata": {},
   "outputs": [
    {
     "name": "stdout",
     "output_type": "stream",
     "text": [
      "[0 2]\n"
     ]
    }
   ],
   "source": [
    "twice_oned = 2 * oned\n",
    "print(twice_oned)"
   ]
  },
  {
   "cell_type": "code",
   "execution_count": 68,
   "metadata": {},
   "outputs": [
    {
     "data": {
      "text/plain": [
       "array([[0, 0],\n",
       "       [1, 2]])"
      ]
     },
     "execution_count": 68,
     "metadata": {},
     "output_type": "execute_result"
    }
   ],
   "source": [
    "np.column_stack((oned, twice_oned))"
   ]
  },
  {
   "cell_type": "code",
   "execution_count": 69,
   "metadata": {},
   "outputs": [
    {
     "data": {
      "text/plain": [
       "array([[ 0,  1,  2,  0,  2,  4],\n",
       "       [ 3,  4,  5,  6,  8, 10],\n",
       "       [ 6,  7,  8, 12, 14, 16]])"
      ]
     },
     "execution_count": 69,
     "metadata": {},
     "output_type": "execute_result"
    }
   ],
   "source": [
    "# 对于二维数组，效果与hstack相同\n",
    "np.column_stack((a,b))"
   ]
  },
  {
   "cell_type": "code",
   "execution_count": 70,
   "metadata": {},
   "outputs": [
    {
     "data": {
      "text/plain": [
       "array([[ True,  True,  True,  True,  True,  True],\n",
       "       [ True,  True,  True,  True,  True,  True],\n",
       "       [ True,  True,  True,  True,  True,  True]], dtype=bool)"
      ]
     },
     "execution_count": 70,
     "metadata": {},
     "output_type": "execute_result"
    }
   ],
   "source": [
    "np.column_stack((a, b)) == np.hstack((a, b))"
   ]
  },
  {
   "cell_type": "markdown",
   "metadata": {},
   "source": [
    "### 2.9 数组的分割"
   ]
  },
  {
   "cell_type": "markdown",
   "metadata": {},
   "source": [
    "### 2.10 分割数组"
   ]
  },
  {
   "cell_type": "code",
   "execution_count": 73,
   "metadata": {},
   "outputs": [
    {
     "name": "stdout",
     "output_type": "stream",
     "text": [
      "[[0 1 2]\n",
      " [3 4 5]\n",
      " [6 7 8]]\n"
     ]
    }
   ],
   "source": [
    "# 水平分割\n",
    "a = np.arange(9).reshape((3,3))\n",
    "print(a)"
   ]
  },
  {
   "cell_type": "code",
   "execution_count": 74,
   "metadata": {},
   "outputs": [
    {
     "data": {
      "text/plain": [
       "[array([[0],\n",
       "        [3],\n",
       "        [6]]), array([[1],\n",
       "        [4],\n",
       "        [7]]), array([[2],\n",
       "        [5],\n",
       "        [8]])]"
      ]
     },
     "execution_count": 74,
     "metadata": {},
     "output_type": "execute_result"
    }
   ],
   "source": [
    "np.hsplit(a, 3)"
   ]
  },
  {
   "cell_type": "code",
   "execution_count": 76,
   "metadata": {},
   "outputs": [
    {
     "data": {
      "text/plain": [
       "[array([[0],\n",
       "        [3],\n",
       "        [6]]), array([[1],\n",
       "        [4],\n",
       "        [7]]), array([[2],\n",
       "        [5],\n",
       "        [8]])]"
      ]
     },
     "execution_count": 76,
     "metadata": {},
     "output_type": "execute_result"
    }
   ],
   "source": [
    "np.split(a, 3, axis=1)"
   ]
  },
  {
   "cell_type": "code",
   "execution_count": 77,
   "metadata": {},
   "outputs": [
    {
     "data": {
      "text/plain": [
       "[array([[0, 1, 2]]), array([[3, 4, 5]]), array([[6, 7, 8]])]"
      ]
     },
     "execution_count": 77,
     "metadata": {},
     "output_type": "execute_result"
    }
   ],
   "source": [
    "# 垂直分割\n",
    "np.vsplit(a, 3)"
   ]
  },
  {
   "cell_type": "code",
   "execution_count": 80,
   "metadata": {},
   "outputs": [
    {
     "data": {
      "text/plain": [
       "[array([[0, 1, 2]]), array([[3, 4, 5]]), array([[6, 7, 8]])]"
      ]
     },
     "execution_count": 80,
     "metadata": {},
     "output_type": "execute_result"
    }
   ],
   "source": [
    "np.split(a, 3, axis=0)"
   ]
  },
  {
   "cell_type": "code",
   "execution_count": 81,
   "metadata": {},
   "outputs": [
    {
     "name": "stdout",
     "output_type": "stream",
     "text": [
      "[[[ 0  1  2]\n",
      "  [ 3  4  5]\n",
      "  [ 6  7  8]]\n",
      "\n",
      " [[ 9 10 11]\n",
      "  [12 13 14]\n",
      "  [15 16 17]]\n",
      "\n",
      " [[18 19 20]\n",
      "  [21 22 23]\n",
      "  [24 25 26]]]\n"
     ]
    }
   ],
   "source": [
    "# 深度分割\n",
    "c = np.arange(27).reshape(3 , 3, 3)\n",
    "print(c)"
   ]
  },
  {
   "cell_type": "code",
   "execution_count": 82,
   "metadata": {},
   "outputs": [
    {
     "data": {
      "text/plain": [
       "[array([[[ 0],\n",
       "         [ 3],\n",
       "         [ 6]],\n",
       " \n",
       "        [[ 9],\n",
       "         [12],\n",
       "         [15]],\n",
       " \n",
       "        [[18],\n",
       "         [21],\n",
       "         [24]]]), array([[[ 1],\n",
       "         [ 4],\n",
       "         [ 7]],\n",
       " \n",
       "        [[10],\n",
       "         [13],\n",
       "         [16]],\n",
       " \n",
       "        [[19],\n",
       "         [22],\n",
       "         [25]]]), array([[[ 2],\n",
       "         [ 5],\n",
       "         [ 8]],\n",
       " \n",
       "        [[11],\n",
       "         [14],\n",
       "         [17]],\n",
       " \n",
       "        [[20],\n",
       "         [23],\n",
       "         [26]]])]"
      ]
     },
     "execution_count": 82,
     "metadata": {},
     "output_type": "execute_result"
    }
   ],
   "source": [
    "np.dsplit(c, 3)"
   ]
  },
  {
   "cell_type": "markdown",
   "metadata": {},
   "source": [
    "### 2.11 数组的属性"
   ]
  },
  {
   "cell_type": "code",
   "execution_count": 86,
   "metadata": {},
   "outputs": [
    {
     "data": {
      "text/plain": [
       "2"
      ]
     },
     "execution_count": 86,
     "metadata": {},
     "output_type": "execute_result"
    }
   ],
   "source": [
    "# ndim 数组轴个数\n",
    "b.ndim"
   ]
  },
  {
   "cell_type": "code",
   "execution_count": 87,
   "metadata": {},
   "outputs": [
    {
     "data": {
      "text/plain": [
       "9"
      ]
     },
     "execution_count": 87,
     "metadata": {},
     "output_type": "execute_result"
    }
   ],
   "source": [
    "# 元素总个数\n",
    "b.size"
   ]
  },
  {
   "cell_type": "code",
   "execution_count": 90,
   "metadata": {},
   "outputs": [
    {
     "name": "stdout",
     "output_type": "stream",
     "text": [
      "int32\n",
      "4\n"
     ]
    }
   ],
   "source": [
    "# 一个元素所占字节数\n",
    "print(b.dtype)\n",
    "print(b.itemsize)"
   ]
  },
  {
   "cell_type": "code",
   "execution_count": 91,
   "metadata": {},
   "outputs": [
    {
     "data": {
      "text/plain": [
       "36"
      ]
     },
     "execution_count": 91,
     "metadata": {},
     "output_type": "execute_result"
    }
   ],
   "source": [
    "# 数组所占存储空间 = itemsize * size\n",
    "b.nbytes"
   ]
  },
  {
   "cell_type": "code",
   "execution_count": 92,
   "metadata": {},
   "outputs": [
    {
     "data": {
      "text/plain": [
       "array([[ 0,  6, 12],\n",
       "       [ 2,  8, 14],\n",
       "       [ 4, 10, 16]])"
      ]
     },
     "execution_count": 92,
     "metadata": {},
     "output_type": "execute_result"
    }
   ],
   "source": [
    "# 数组转置\n",
    "b.T"
   ]
  },
  {
   "cell_type": "code",
   "execution_count": 93,
   "metadata": {
    "collapsed": true
   },
   "outputs": [],
   "source": [
    "# 像迭代一维数组一样迭代多维数组\n",
    "f = b.flat"
   ]
  },
  {
   "cell_type": "code",
   "execution_count": 94,
   "metadata": {},
   "outputs": [
    {
     "name": "stdout",
     "output_type": "stream",
     "text": [
      "<numpy.flatiter object at 0x0000012535407C20>\n"
     ]
    }
   ],
   "source": [
    "print(f)"
   ]
  },
  {
   "cell_type": "code",
   "execution_count": 95,
   "metadata": {},
   "outputs": [
    {
     "name": "stdout",
     "output_type": "stream",
     "text": [
      "0\n",
      "2\n",
      "4\n",
      "6\n",
      "8\n",
      "10\n",
      "12\n",
      "14\n",
      "16\n"
     ]
    }
   ],
   "source": [
    "for item in f:\n",
    "    print(item)"
   ]
  },
  {
   "cell_type": "code",
   "execution_count": 97,
   "metadata": {},
   "outputs": [
    {
     "data": {
      "text/plain": [
       "[[0, 2, 4], [6, 8, 10], [12, 14, 16]]"
      ]
     },
     "execution_count": 97,
     "metadata": {},
     "output_type": "execute_result"
    }
   ],
   "source": [
    "b.tolist()"
   ]
  },
  {
   "cell_type": "markdown",
   "metadata": {},
   "source": [
    "## 3. 常用函数"
   ]
  },
  {
   "cell_type": "markdown",
   "metadata": {},
   "source": [
    "### 3.2 读写文件"
   ]
  },
  {
   "cell_type": "code",
   "execution_count": 99,
   "metadata": {},
   "outputs": [
    {
     "name": "stdout",
     "output_type": "stream",
     "text": [
      "[[ 1.  0.]\n",
      " [ 0.  1.]]\n"
     ]
    }
   ],
   "source": [
    "# 单位矩阵\n",
    "i2 = np.eye(2)\n",
    "print(i2)"
   ]
  },
  {
   "cell_type": "code",
   "execution_count": 100,
   "metadata": {
    "collapsed": true
   },
   "outputs": [],
   "source": [
    "np.savetxt('eye.txt', i2)"
   ]
  },
  {
   "cell_type": "code",
   "execution_count": 102,
   "metadata": {
    "collapsed": true
   },
   "outputs": [],
   "source": [
    "i3 = np.loadtxt('eye.txt')"
   ]
  },
  {
   "cell_type": "code",
   "execution_count": 103,
   "metadata": {},
   "outputs": [
    {
     "name": "stdout",
     "output_type": "stream",
     "text": [
      "[[ 1.  0.]\n",
      " [ 0.  1.]]\n"
     ]
    }
   ],
   "source": [
    "print(i3)"
   ]
  },
  {
   "cell_type": "markdown",
   "metadata": {},
   "source": [
    "### 3.4 csv文件"
   ]
  },
  {
   "cell_type": "code",
   "execution_count": 104,
   "metadata": {
    "collapsed": true
   },
   "outputs": [],
   "source": [
    "c, v = np.loadtxt('./tmp/apple.csv', delimiter=',', usecols=(6,7), unpack=True)"
   ]
  },
  {
   "cell_type": "code",
   "execution_count": 105,
   "metadata": {},
   "outputs": [
    {
     "name": "stdout",
     "output_type": "stream",
     "text": [
      "336.1\n",
      "21144800.0\n"
     ]
    }
   ],
   "source": [
    "print(c)\n",
    "print(v)"
   ]
  },
  {
   "cell_type": "code",
   "execution_count": 107,
   "metadata": {},
   "outputs": [],
   "source": [
    "c, v = np.loadtxt('./tmp/stock.csv', delimiter=',', usecols=(2,4), unpack=True)"
   ]
  },
  {
   "cell_type": "markdown",
   "metadata": {},
   "source": [
    "### 3.6 计算股票加权平均价格"
   ]
  },
  {
   "cell_type": "code",
   "execution_count": 113,
   "metadata": {},
   "outputs": [
    {
     "name": "stdout",
     "output_type": "stream",
     "text": [
      "vwap = 22.4334945996\n"
     ]
    }
   ],
   "source": [
    "# 计算成交量加权平均数：加权计算平均成交价\n",
    "vwap = np.average(c, weights=v)\n",
    "print('vwap =', vwap)"
   ]
  },
  {
   "cell_type": "code",
   "execution_count": 112,
   "metadata": {},
   "outputs": [
    {
     "name": "stdout",
     "output_type": "stream",
     "text": [
      "mean = 20.5953810264\n"
     ]
    }
   ],
   "source": [
    "# 算数平均价格\n",
    "print('mean =', np.mean(c))"
   ]
  },
  {
   "cell_type": "code",
   "execution_count": 114,
   "metadata": {},
   "outputs": [
    {
     "name": "stdout",
     "output_type": "stream",
     "text": [
      "twap = 19.3735485918\n"
     ]
    }
   ],
   "source": [
    "# 时间加权平均价格\n",
    "t = np.arange(len(c))\n",
    "print('twap =', np.average(c, weights=t))"
   ]
  },
  {
   "cell_type": "markdown",
   "metadata": {},
   "source": [
    "### 3.7 取值范围"
   ]
  },
  {
   "cell_type": "code",
   "execution_count": 117,
   "metadata": {
    "collapsed": true
   },
   "outputs": [],
   "source": [
    "h, l = np.loadtxt('./tmp/stock.csv', delimiter=',', usecols=(1,3), unpack=True)"
   ]
  },
  {
   "cell_type": "code",
   "execution_count": 118,
   "metadata": {},
   "outputs": [
    {
     "name": "stdout",
     "output_type": "stream",
     "text": [
      "highest = 36.35\n",
      "lowest = 10.55\n"
     ]
    }
   ],
   "source": [
    "print('highest =', np.max(h))\n",
    "print('lowest =', np.min(l))"
   ]
  },
  {
   "cell_type": "code",
   "execution_count": 119,
   "metadata": {},
   "outputs": [
    {
     "name": "stdout",
     "output_type": "stream",
     "text": [
      "median = 21.54\n"
     ]
    }
   ],
   "source": [
    "print('median =', np.median(h))"
   ]
  },
  {
   "cell_type": "code",
   "execution_count": 121,
   "metadata": {},
   "outputs": [
    {
     "name": "stdout",
     "output_type": "stream",
     "text": [
      "spread high price = 25.34\n"
     ]
    }
   ],
   "source": [
    "# 极差: 最大值，最小值之差\n",
    "print('spread high price =', np.ptp(h))"
   ]
  },
  {
   "cell_type": "markdown",
   "metadata": {},
   "source": [
    "### 3.9 统计分析"
   ]
  },
  {
   "cell_type": "code",
   "execution_count": 123,
   "metadata": {
    "collapsed": true
   },
   "outputs": [],
   "source": [
    "c = np.loadtxt('./tmp/stock.csv', delimiter=',', usecols=(2,), unpack=True)"
   ]
  },
  {
   "cell_type": "code",
   "execution_count": 124,
   "metadata": {},
   "outputs": [
    {
     "name": "stdout",
     "output_type": "stream",
     "text": [
      "median = 21.06\n"
     ]
    }
   ],
   "source": [
    "print('median =', np.median(c))"
   ]
  },
  {
   "cell_type": "code",
   "execution_count": 125,
   "metadata": {},
   "outputs": [
    {
     "name": "stdout",
     "output_type": "stream",
     "text": [
      "sorted = [ 10.79  10.91  10.92  10.96  10.97  11.    11.01  11.09  11.1   11.12\n",
      "  11.23  11.26  11.34  11.42  11.47  11.48  11.5   11.61  11.67  11.76\n",
      "  11.78  11.78  11.85  11.92  11.97  11.99  12.04  12.06  12.09  12.09\n",
      "  12.12  12.13  12.17  12.2   12.21  12.22  12.27  12.31  12.36  12.5\n",
      "  12.52  12.57  12.6   12.7   12.77  12.9   13.16  13.34  13.46  13.56\n",
      "  13.85  13.95  13.97  13.99  14.01  14.02  14.1   14.11  14.28  14.3\n",
      "  14.31  14.4   14.46  14.47  14.47  14.53  14.55  14.55  14.62  14.63\n",
      "  14.64  14.65  14.75  14.85  14.87  14.93  14.95  14.97  14.97  15.01\n",
      "  15.05  15.06  15.08  15.15  15.15  15.18  15.18  15.19  15.24  15.28\n",
      "  15.28  15.29  15.3   15.3   15.3   15.31  15.34  15.38  15.38  15.4   15.4\n",
      "  15.42  15.42  15.42  15.47  15.56  15.56  15.57  15.62  15.67  15.68\n",
      "  15.75  15.77  15.77  15.9   15.9   15.94  15.98  16.01  16.07  16.08\n",
      "  16.11  16.12  16.17  16.18  16.19  16.22  16.27  16.29  16.42  16.44\n",
      "  16.46  16.48  16.66  16.74  16.81  16.82  16.96  16.99  17.29  17.35\n",
      "  17.35  17.41  17.51  17.51  17.51  17.54  17.57  17.6   17.63  17.67\n",
      "  17.67  17.7   17.74  17.77  17.8   17.85  17.91  17.92  17.93  17.94\n",
      "  17.95  17.98  18.    18.04  18.04  18.14  18.18  18.31  18.32  18.32\n",
      "  18.38  18.42  18.44  18.45  18.47  18.47  18.48  18.48  18.5   18.52\n",
      "  18.53  18.54  18.55  18.56  18.6   18.63  18.64  18.65  18.65  18.65\n",
      "  18.66  18.69  18.72  18.72  18.74  18.75  18.8   18.81  18.9   19.    19.02\n",
      "  19.07  19.1   19.11  19.11  19.12  19.12  19.15  19.16  19.17  19.19\n",
      "  19.21  19.3   19.3   19.3   19.35  19.35  19.38  19.4   19.41  19.43\n",
      "  19.45  19.45  19.47  19.48  19.5   19.5   19.51  19.54  19.62  19.63\n",
      "  19.65  19.67  19.68  19.7   19.7   19.76  19.77  19.83  19.84  19.84\n",
      "  19.88  19.89  19.89  19.91  19.95  19.96  19.96  19.96  19.96  20.    20.\n",
      "  20.05  20.05  20.06  20.08  20.16  20.19  20.2   20.21  20.23  20.34\n",
      "  20.36  20.39  20.4   20.4   20.4   20.42  20.42  20.44  20.44  20.45\n",
      "  20.45  20.46  20.48  20.57  20.58  20.58  20.61  20.62  20.65  20.66\n",
      "  20.66  20.67  20.69  20.69  20.7   20.72  20.73  20.73  20.77  20.78\n",
      "  20.78  20.78  20.79  20.79  20.79  20.8   20.8   20.81  20.81  20.84\n",
      "  20.85  20.86  20.88  20.89  20.89  20.89  20.91  20.92  20.93  20.94\n",
      "  20.97  20.97  20.98  20.98  20.98  20.99  21.    21.01  21.06  21.06\n",
      "  21.07  21.09  21.1   21.11  21.12  21.13  21.14  21.14  21.15  21.16\n",
      "  21.17  21.18  21.19  21.2   21.21  21.23  21.23  21.23  21.23  21.25\n",
      "  21.25  21.26  21.27  21.29  21.29  21.3   21.3   21.31  21.33  21.33\n",
      "  21.34  21.4   21.41  21.41  21.41  21.43  21.44  21.45  21.47  21.48\n",
      "  21.48  21.49  21.5   21.5   21.53  21.54  21.56  21.59  21.59  21.6\n",
      "  21.62  21.63  21.66  21.66  21.67  21.69  21.7   21.7   21.71  21.74\n",
      "  21.74  21.75  21.75  21.75  21.75  21.78  21.78  21.79  21.79  21.81\n",
      "  21.82  21.85  21.85  21.85  21.88  21.88  21.89  21.89  21.89  21.89\n",
      "  21.9   21.9   21.91  21.92  21.93  21.94  21.94  21.95  21.98  21.98\n",
      "  21.98  21.99  22.02  22.03  22.05  22.06  22.06  22.08  22.09  22.1\n",
      "  22.12  22.14  22.16  22.19  22.2   22.2   22.2   22.22  22.23  22.24\n",
      "  22.25  22.25  22.26  22.28  22.28  22.29  22.32  22.33  22.35  22.37\n",
      "  22.38  22.4   22.4   22.4   22.43  22.49  22.5   22.5   22.54  22.6\n",
      "  22.61  22.61  22.62  22.63  22.67  22.67  22.71  22.75  22.76  22.78\n",
      "  22.79  22.79  22.85  22.86  22.87  22.87  22.92  22.92  22.97  22.98\n",
      "  22.99  22.99  22.99  23.    23.01  23.03  23.05  23.06  23.06  23.07\n",
      "  23.07  23.08  23.1   23.13  23.13  23.19  23.2   23.2   23.21  23.24\n",
      "  23.25  23.26  23.27  23.3   23.3   23.32  23.33  23.33  23.34  23.37\n",
      "  23.4   23.46  23.47  23.47  23.5   23.53  23.57  23.64  23.7   23.76\n",
      "  23.8   23.81  23.81  23.83  23.85  23.89  23.9   23.91  23.95  23.95\n",
      "  23.98  23.99  24.01  24.02  24.03  24.03  24.08  24.1   24.11  24.14\n",
      "  24.15  24.18  24.21  24.23  24.25  24.25  24.27  24.29  24.35  24.36\n",
      "  24.38  24.44  24.45  24.46  24.48  24.51  24.56  24.65  24.65  24.7\n",
      "  24.79  24.91  24.95  24.96  25.01  25.04  25.09  25.11  25.19  25.26\n",
      "  25.27  25.28  25.29  25.4   25.43  25.57  25.61  25.62  25.65  25.69\n",
      "  25.74  25.8   25.89  25.93  25.95  26.05  26.08  26.1   26.18  26.26\n",
      "  26.31  26.35  26.52  26.73  26.89  26.93  26.95  26.97  27.    27.09\n",
      "  27.12  27.16  27.18  27.19  27.28  27.28  27.35  27.42  27.46  27.73\n",
      "  27.79  28.05  28.05  28.07  28.07  28.09  28.15  28.17  28.18  28.19\n",
      "  28.22  28.24  28.25  28.26  28.33  28.37  28.46  28.98  29.04  29.34\n",
      "  29.54  29.66  29.73  29.79  29.92  30.31  30.45  31.2   31.33  31.69\n",
      "  32.06  32.35  32.41  33.11  33.34  33.83  33.85  34.39  34.44  35.21]\n"
     ]
    }
   ],
   "source": [
    "sorted_close = np.msort(c)\n",
    "print('sorted =', sorted_close)"
   ]
  },
  {
   "cell_type": "code",
   "execution_count": 132,
   "metadata": {},
   "outputs": [
    {
     "name": "stdout",
     "output_type": "stream",
     "text": [
      "middle = 21.06\n",
      "middle = 21.06\n"
     ]
    }
   ],
   "source": [
    "N = len(c)\n",
    "print('middle =', sorted_close[int(len(c)/2)])\n",
    "print('middle =', (sorted_close[int(N/2)] + sorted_close[int(N/2 + 1)])/2)"
   ]
  },
  {
   "cell_type": "code",
   "execution_count": 133,
   "metadata": {},
   "outputs": [
    {
     "name": "stdout",
     "output_type": "stream",
     "text": [
      "variance = 20.5631094582\n",
      "variance from definition = 20.5631094582\n"
     ]
    }
   ],
   "source": [
    "print('variance =', np.var(c))\n",
    "print('variance from definition =', np.mean((c - c.mean()) ** 2))"
   ]
  },
  {
   "cell_type": "code",
   "execution_count": 134,
   "metadata": {},
   "outputs": [
    {
     "name": "stdout",
     "output_type": "stream",
     "text": [
      "std = 4.53465648735\n"
     ]
    }
   ],
   "source": [
    "print('std =', np.std(c))"
   ]
  },
  {
   "cell_type": "code",
   "execution_count": 135,
   "metadata": {},
   "outputs": [
    {
     "name": "stdout",
     "output_type": "stream",
     "text": [
      "standard deviation = 0.0407481965878\n"
     ]
    }
   ],
   "source": [
    "# 分析股票收益率\n",
    "returns = np.diff(c) / c[: -1]\n",
    "print('standard deviation =', np.std(returns))"
   ]
  },
  {
   "cell_type": "code",
   "execution_count": 136,
   "metadata": {},
   "outputs": [
    {
     "name": "stdout",
     "output_type": "stream",
     "text": [
      "log returns = [ 0.00952388  0.00515687  0.00555676 -0.01416637 -0.00563626  0.02022879\n",
      "  0.01438265  0.00711449 -0.052655   -0.00617286 -0.01560094 -0.00902533\n",
      " -0.01645375  0.05469763  0.05351595  0.00289077  0.00164813  0.0167385\n",
      " -0.02003747  0.00986444 -0.01732717  0.04991907  0.00079145 -0.00754421\n",
      "  0.03869938  0.07708884  0.01024201  0.03045218 -0.03785832 -0.00567982\n",
      "  0.00991861  0.02334194 -0.00206825 -0.02799343 -0.00106515  0.07853864\n",
      "  0.10526199  0.0178707  -0.07160953  0.0322262  -0.02136833 -0.08631038\n",
      " -0.05816801  0.06018413 -0.05025145 -0.04217601 -0.05564349 -0.01017223\n",
      " -0.00948249  0.04502118 -0.00342141  0.00190223  0.03032237  0.00844507\n",
      "  0.01595971 -0.01852241  0.03529354 -0.06354821 -0.06262984  0.04972643\n",
      "  0.0575191  -0.06865807 -0.00581059  0.00812541  0.03558286 -0.00596794\n",
      "  0.00819677  0.0187471  -0.01356574 -0.00592375 -0.05182112 -0.04233859\n",
      " -0.02311287 -0.00796483  0.05247105  0.02289875 -0.05908892 -0.04618487\n",
      "  0.01890091 -0.00554727 -0.03261868  0.0196986   0.05399878 -0.06972649\n",
      " -0.0137444  -0.02348798  0.00045693 -0.02077158  0.0027946  -0.01263766\n",
      "  0.03789733 -0.02992168  0.01207632  0.00138408 -0.00926361  0.0361017\n",
      " -0.0176595   0.02213779  0.01815414  0.00960706 -0.01092429  0.02773141\n",
      "  0.01273903 -0.02867733  0.00735456 -0.02310981 -0.00265018 -0.06156491\n",
      " -0.01373453  0.08673316  0.025897    0.01438265 -0.06866293  0.03968775\n",
      " -0.08195403 -0.01560684  0.00142891 -0.01100753  0.05614196 -0.0192932\n",
      "  0.00831414 -0.00322507  0.02416347  0.04664286  0.00343348  0.10523197\n",
      " -0.09542588  0.0214069  -0.06786631 -0.07856232 -0.02877546 -0.04607244\n",
      " -0.00937019 -0.05261546  0.04999697 -0.00367744  0.01566612 -0.03963531\n",
      "  0.00751883 -0.02766653 -0.01328923 -0.00167364 -0.00784757 -0.04488671\n",
      " -0.01005628  0.0344761   0.01877722  0.00618153 -0.00280505  0.00727683\n",
      " -0.01291065 -0.01079249  0.00512676  0.01801851  0.02207595  0.02159911\n",
      " -0.01074124  0.00645858  0.02490195  0.01248066  0.00154919  0.00360546\n",
      " -0.03718679  0.00319659 -0.00266312 -0.00160128  0.04746654 -0.00664454\n",
      "  0.03675219  0.05948996 -0.0297824  -0.00867475  0.03659235 -0.00093371\n",
      " -0.03565864  0.00338246  0.05536123 -0.05150951  0.00861249 -0.06444324\n",
      "  0.01161923 -0.01212749  0.001524    0.00304106  0.01007058 -0.02331581\n",
      "  0.01980263  0.0223723   0.00685941 -0.00293399  0.00731889  0.00048603\n",
      "  0.01495085 -0.00527959  0.01575588 -0.00856333  0.0080895   0.01458506\n",
      "  0.02627485 -0.00182149 -0.00686031  0.01322107 -0.02059098 -0.00463393\n",
      "  0.01840825  0.01313722 -0.06220102  0.02132277  0.01211571  0.\n",
      "  0.03459608 -0.0258342  -0.02557684 -0.02094317 -0.01648922  0.01070049\n",
      " -0.00096805  0.01155526 -0.02128769 -0.06463633  0.00104275 -0.00156454\n",
      " -0.00261301  0.00209096 -0.00156781 -0.02596172  0.00107296  0.\n",
      " -0.00969835  0.07758248  0.02180463 -0.01730575  0.00745345  0.0098523\n",
      " -0.01034747 -0.00645965 -0.01456215 -0.01477734 -0.00669588  0.02500768\n",
      " -0.0219117   0.00513876  0.01928994 -0.00251699  0.02881471 -0.09550609\n",
      " -0.00974561  0.00812792 -0.00270197  0.         -0.02409755  0.0219307\n",
      "  0.03096884  0.01978201  0.07495445  0.01847956 -0.01513747  0.01043158\n",
      " -0.00615095  0.01927204  0.          0.06270374  0.10492317 -0.02997227\n",
      " -0.01183446  0.03032373 -0.00599163 -0.02105341  0.000818   -0.05893962\n",
      "  0.01035385 -0.00430108 -0.00431966  0.03404584  0.01536256 -0.01578106\n",
      "  0.00542686  0.00332502 -0.03590671 -0.06073215 -0.04248013  0.01232243\n",
      "  0.00094162  0.00375764 -0.01654493  0.03604415  0.02272825  0.01693445\n",
      " -0.01155568 -0.02810702 -0.00692044 -0.01445584 -0.02040403 -0.04811925\n",
      " -0.02960911  0.09342428 -0.00615387 -0.00666987 -0.00623354  0.0171678\n",
      "  0.03575956 -0.00091283  0.00182482  0.05065499  0.04945018  0.00943984\n",
      " -0.06279712 -0.00917638  0.00306816  0.00043754 -0.09587902 -0.00337594\n",
      "  0.01866529  0.03035489  0.00045988  0.0127914  -0.02249349  0.02973007\n",
      " -0.00315956  0.02146773 -0.00888895  0.01726088 -0.03573404 -0.03000456\n",
      " -0.0232293   0.00716849  0.03278982 -0.02614528  0.02430026  0.0110194\n",
      "  0.01180223 -0.06333588 -0.01648123  0.01311017  0.01958505  0.06987548\n",
      " -0.04742365  0.01651414 -0.09640268 -0.04404194 -0.03354054 -0.02577604\n",
      "  0.0170756   0.000546   -0.03612507 -0.00226629 -0.00340909  0.02139721\n",
      "  0.02747426  0.01131782 -0.09552457 -0.09519226 -0.01174182 -0.03268047\n",
      "  0.01747356  0.01782814  0.03029558 -0.021175   -0.01502805  0.05942342\n",
      " -0.06008197 -0.05275057 -0.02745685  0.0582285   0.01404236  0.10575884\n",
      " -0.03402515  0.01837161 -0.02457126 -0.00623832  0.00810226 -0.03088805\n",
      " -0.03717415  0.01647484 -0.0098523  -0.04592299  0.00551345 -0.0314162\n",
      " -0.00926262 -0.02978789  0.03121851  0.03787269  0.09010363 -0.02097312\n",
      " -0.01097848  0.03884602  0.01303152 -0.04154153 -0.00903815  0.03316631\n",
      " -0.04228689  0.00130804  0.03846628  0.10554918  0.02072323  0.10563764\n",
      " -0.01103321  0.04245455  0.10497378 -0.05042335 -0.0032088   0.00503779\n",
      "  0.05769124 -0.00605538  0.04496092 -0.01294111  0.00628274  0.00166875\n",
      " -0.02789699 -0.04784762  0.00359067 -0.00134499 -0.01810824  0.01406238\n",
      " -0.04138522 -0.01133157  0.04457562 -0.02622649 -0.01266731 -0.0176237\n",
      "  0.02092325 -0.03886313  0.03509132  0.10569112  0.01350801 -0.00884402\n",
      " -0.01448683  0.03913817 -0.01329475  0.00417363  0.0834649  -0.00191755\n",
      " -0.04314395 -0.03757077  0.02547385  0.00566345 -0.09514884 -0.00936044\n",
      " -0.00583878 -0.01589137 -0.04493035 -0.02177681  0.00828263  0.01588481\n",
      " -0.01539973  0.05518967  0.00274977  0.02619843 -0.09535476 -0.09511402\n",
      "  0.07329858 -0.01515181  0.03745756 -0.02180463 -0.05456835 -0.02139119\n",
      " -0.09579678 -0.03758018  0.00492915 -0.03757486 -0.01284539 -0.0255333\n",
      "  0.01382966  0.00716849 -0.01636698 -0.01195233 -0.0284572  -0.03710611\n",
      " -0.00500537  0.048278   -0.09299047  0.08061918  0.10556796 -0.09456373\n",
      "  0.00068376 -0.05478898 -0.08118656 -0.03263322  0.08525687  0.10498898\n",
      "  0.0962219  -0.094885    0.03865532  0.10542478  0.10530268  0.05814121\n",
      "  0.04466529 -0.02376538 -0.03077166  0.10536052 -0.02029382 -0.02490904\n",
      " -0.06812583 -0.01511364 -0.00815499 -0.08320362 -0.03566752  0.00917964\n",
      " -0.00917964 -0.09548311  0.10466275  0.06038943  0.04468549 -0.04200092\n",
      "  0.10380435  0.10540885  0.04881088 -0.07035491 -0.05810003 -0.00330267\n",
      " -0.00189215 -0.05049616  0.09585331  0.10554149  0.10503473 -0.06317093\n",
      " -0.09581792  0.07211077 -0.04833045  0.05946377  0.06431608  0.03926349\n",
      " -0.03113937  0.03185213  0.1057167   0.00415801  0.03203792 -0.02061285\n",
      "  0.10532896 -0.02356431 -0.01582683 -0.01518112 -0.09528019 -0.07251039\n",
      " -0.04313044  0.01543581  0.02946674 -0.038258   -0.05210692 -0.02075657\n",
      "  0.10508347  0.05509795  0.00872782 -0.01278188 -0.04571433 -0.09548737\n",
      " -0.09523221 -0.01077829 -0.03484366 -0.00630349 -0.06339494  0.02048178\n",
      " -0.03015304 -0.02858746 -0.06134363  0.03448618  0.0622246   0.07124259\n",
      "  0.01072876 -0.01794575 -0.01551126  0.05239613 -0.06395696  0.01431565\n",
      "  0.0004584  -0.005054   -0.02047535  0.03646838  0.040423    0.05957411\n",
      " -0.04788819 -0.0951811  -0.08387557  0.00973119 -0.06311242 -0.04895304\n",
      " -0.05147335 -0.01329325 -0.00916597 -0.00739375  0.01534243 -0.0403907\n",
      " -0.05473679  0.02448022  0.02453319 -0.01931805 -0.00260417  0.00260417\n",
      " -0.00456175 -0.00852744 -0.02063301 -0.02726822 -0.02519377  0.01337577\n",
      "  0.0241808  -0.02348174 -0.00209864 -0.08167803 -0.01995461 -0.01562532\n",
      " -0.01427463 -0.02589141 -0.00575423 -0.00330306  0.01069529 -0.00821697\n",
      " -0.00247832 -0.02597549 -0.00169924 -0.02235691 -0.0026121   0.02666825\n",
      "  0.00592469  0.0117451   0.00416147 -0.00583092  0.00749067  0.04380262\n",
      " -0.03472291  0.01143803  0.02090108 -0.00558438 -0.01857139 -0.00490197\n",
      " -0.09531018 -0.02832533  0.04971652 -0.03408402  0.00091199  0.00363968\n",
      " -0.00912415  0.02890897  0.03843268  0.02119622 -0.02635087 -0.03061017\n",
      " -0.01251133 -0.01814932  0.0072993   0.04271112 -0.00524019 -0.0293224 ]\n"
     ]
    }
   ],
   "source": [
    "logreturns = np.diff(np.log(c))\n",
    "print('log returns =',  logreturns)"
   ]
  },
  {
   "cell_type": "code",
   "execution_count": 138,
   "metadata": {},
   "outputs": [
    {
     "name": "stdout",
     "output_type": "stream",
     "text": [
      "filter with 30 = (array([ 36,  37,  38,  39,  40,  41, 525, 526, 527, 528, 529, 530, 531,\n",
      "       532, 533], dtype=int64),)\n"
     ]
    }
   ],
   "source": [
    "# 过滤数组值\n",
    "print('filter with 30 =', np.where(c > 30))"
   ]
  },
  {
   "cell_type": "code",
   "execution_count": 140,
   "metadata": {},
   "outputs": [
    {
     "name": "stdout",
     "output_type": "stream",
     "text": [
      "-566.536934909\n"
     ]
    }
   ],
   "source": [
    "# 波动率 = 对数收益率的标准差 / 其均值 / 交易日倒数的平方根\n",
    "annual_volatility = np.std(logreturns) / np.mean(logreturns)\n",
    "annual_volatility = annual_volatility / np.sqrt(1. / 252.)\n",
    "print(annual_volatility)"
   ]
  },
  {
   "cell_type": "code",
   "execution_count": 141,
   "metadata": {},
   "outputs": [
    {
     "name": "stdout",
     "output_type": "stream",
     "text": [
      "月波动率 = -163.545125938\n"
     ]
    }
   ],
   "source": [
    "print('月波动率 =', annual_volatility * np.sqrt( 1. / 12.))"
   ]
  },
  {
   "cell_type": "markdown",
   "metadata": {},
   "source": [
    "### 3.13 日期分析"
   ]
  },
  {
   "cell_type": "code",
   "execution_count": 143,
   "metadata": {
    "collapsed": true
   },
   "outputs": [],
   "source": [
    "import datetime"
   ]
  },
  {
   "cell_type": "code",
   "execution_count": 148,
   "metadata": {},
   "outputs": [],
   "source": [
    "dates, closes = np.loadtxt('./tmp/stock-date.csv', delimiter=',', usecols=(14,2), unpack=True,\n",
    "                          converters={14: (lambda x: datetime.datetime.strptime(x.decode('utf-8'), \"%Y-%m-%d\").date().weekday())})"
   ]
  },
  {
   "cell_type": "code",
   "execution_count": 150,
   "metadata": {},
   "outputs": [
    {
     "name": "stdout",
     "output_type": "stream",
     "text": [
      "dates = [ 4.  3.  2.  1.  0.  4.  3.  2.  1.  0.]\n"
     ]
    }
   ],
   "source": [
    "print('dates =', dates[:10])"
   ]
  },
  {
   "cell_type": "code",
   "execution_count": 157,
   "metadata": {},
   "outputs": [
    {
     "name": "stdout",
     "output_type": "stream",
     "text": [
      "[ 0.  0.  0.  0.  0.]\n"
     ]
    }
   ],
   "source": [
    "averages = np.zeros(5)\n",
    "print(averages)"
   ]
  },
  {
   "cell_type": "code",
   "execution_count": 161,
   "metadata": {},
   "outputs": [
    {
     "name": "stdout",
     "output_type": "stream",
     "text": [
      "day 0.0000 average 20.4509\n",
      "day 1.0000 average 20.5877\n",
      "day 2.0000 average 20.5467\n",
      "day 3.0000 average 20.7076\n",
      "day 4.0000 average 20.6834\n"
     ]
    }
   ],
   "source": [
    "# 计算工作日每天收盘价均值\n",
    "for i in range(5):\n",
    "    indices = np.where(dates == i)\n",
    "    prices = np.take(closes, indices)\n",
    "    avg = np.mean(prices)\n",
    "    print('day %.4f average %.4f' % (i, avg))\n",
    "    averages[i] = avg"
   ]
  },
  {
   "cell_type": "code",
   "execution_count": 162,
   "metadata": {},
   "outputs": [
    {
     "name": "stdout",
     "output_type": "stream",
     "text": [
      "highest average 20.707578125\n",
      "top day of the week 3\n"
     ]
    }
   ],
   "source": [
    "top = np.max(averages)\n",
    "print('highest average', top)\n",
    "print('top day of the week', np.argmax(averages))"
   ]
  },
  {
   "cell_type": "code",
   "execution_count": null,
   "metadata": {
    "collapsed": true
   },
   "outputs": [],
   "source": []
  }
 ],
 "metadata": {
  "kernelspec": {
   "display_name": "Python 3",
   "language": "python",
   "name": "python3"
  },
  "language_info": {
   "codemirror_mode": {
    "name": "ipython",
    "version": 3
   },
   "file_extension": ".py",
   "mimetype": "text/x-python",
   "name": "python",
   "nbconvert_exporter": "python",
   "pygments_lexer": "ipython3",
   "version": "3.6.3"
  }
 },
 "nbformat": 4,
 "nbformat_minor": 2
}
