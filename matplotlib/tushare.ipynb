{
 "cells": [
  {
   "cell_type": "code",
   "execution_count": 1,
   "metadata": {
    "collapsed": true
   },
   "outputs": [],
   "source": [
    "import tushare as ts"
   ]
  },
  {
   "cell_type": "code",
   "execution_count": 3,
   "metadata": {},
   "outputs": [],
   "source": [
    "data = ts.get_hist_data('600848')"
   ]
  },
  {
   "cell_type": "code",
   "execution_count": 4,
   "metadata": {},
   "outputs": [
    {
     "data": {
      "text/plain": [
       "pandas.core.frame.DataFrame"
      ]
     },
     "execution_count": 4,
     "metadata": {},
     "output_type": "execute_result"
    }
   ],
   "source": [
    "type(data)"
   ]
  },
  {
   "cell_type": "code",
   "execution_count": 5,
   "metadata": {
    "collapsed": true
   },
   "outputs": [],
   "source": [
    "ndata = data.as_matrix()"
   ]
  },
  {
   "cell_type": "code",
   "execution_count": 8,
   "metadata": {},
   "outputs": [],
   "source": [
    "import numpy as np"
   ]
  },
  {
   "cell_type": "code",
   "execution_count": 12,
   "metadata": {
    "collapsed": true
   },
   "outputs": [],
   "source": [
    "np.savetxt('./tmp/stock.csv', ndata, delimiter=',')"
   ]
  },
  {
   "cell_type": "code",
   "execution_count": 42,
   "metadata": {},
   "outputs": [
    {
     "data": {
      "text/plain": [
       "643"
      ]
     },
     "execution_count": 42,
     "metadata": {},
     "output_type": "execute_result"
    }
   ],
   "source": [
    "# np.array(data.index.data).size\n",
    "# len(ndata)\n",
    "ndata_withdate = np.concatenate((ndata, np.array(data.index.data).reshape(643,1)), axis=1)"
   ]
  },
  {
   "cell_type": "code",
   "execution_count": 45,
   "metadata": {},
   "outputs": [],
   "source": [
    "# ndata[0]\n",
    "# ndata_withdate[0]\n",
    "np.savetxt('./tmp/stock-date.csv', ndata_withdate, delimiter=',',\n",
    "           fmt=('%.18e,%.18e,%.18e,%.18e,%.18e,%.18e,%.18e,%.18e,%.18e,%.18e,%.18e,%.18e,%.18e,%.18e,%s'))"
   ]
  },
  {
   "cell_type": "code",
   "execution_count": 46,
   "metadata": {},
   "outputs": [
    {
     "data": {
      "text/html": [
       "<div>\n",
       "<style>\n",
       "    .dataframe thead tr:only-child th {\n",
       "        text-align: right;\n",
       "    }\n",
       "\n",
       "    .dataframe thead th {\n",
       "        text-align: left;\n",
       "    }\n",
       "\n",
       "    .dataframe tbody tr th {\n",
       "        vertical-align: top;\n",
       "    }\n",
       "</style>\n",
       "<table border=\"1\" class=\"dataframe\">\n",
       "  <thead>\n",
       "    <tr style=\"text-align: right;\">\n",
       "      <th></th>\n",
       "      <th>open</th>\n",
       "      <th>high</th>\n",
       "      <th>close</th>\n",
       "      <th>low</th>\n",
       "      <th>volume</th>\n",
       "      <th>price_change</th>\n",
       "      <th>p_change</th>\n",
       "      <th>ma5</th>\n",
       "      <th>ma10</th>\n",
       "      <th>ma20</th>\n",
       "      <th>v_ma5</th>\n",
       "      <th>v_ma10</th>\n",
       "      <th>v_ma20</th>\n",
       "      <th>turnover</th>\n",
       "    </tr>\n",
       "    <tr>\n",
       "      <th>date</th>\n",
       "      <th></th>\n",
       "      <th></th>\n",
       "      <th></th>\n",
       "      <th></th>\n",
       "      <th></th>\n",
       "      <th></th>\n",
       "      <th></th>\n",
       "      <th></th>\n",
       "      <th></th>\n",
       "      <th></th>\n",
       "      <th></th>\n",
       "      <th></th>\n",
       "      <th></th>\n",
       "      <th></th>\n",
       "    </tr>\n",
       "  </thead>\n",
       "  <tbody>\n",
       "    <tr>\n",
       "      <th>2017-12-22</th>\n",
       "      <td>23.21</td>\n",
       "      <td>23.39</td>\n",
       "      <td>22.99</td>\n",
       "      <td>22.90</td>\n",
       "      <td>28394.00</td>\n",
       "      <td>-0.21</td>\n",
       "      <td>-0.91</td>\n",
       "      <td>23.224</td>\n",
       "      <td>23.313</td>\n",
       "      <td>23.316</td>\n",
       "      <td>35689.43</td>\n",
       "      <td>50210.29</td>\n",
       "      <td>53887.77</td>\n",
       "      <td>0.71</td>\n",
       "    </tr>\n",
       "    <tr>\n",
       "      <th>2017-12-21</th>\n",
       "      <td>23.39</td>\n",
       "      <td>23.50</td>\n",
       "      <td>23.21</td>\n",
       "      <td>22.86</td>\n",
       "      <td>34005.55</td>\n",
       "      <td>-0.11</td>\n",
       "      <td>-0.47</td>\n",
       "      <td>23.226</td>\n",
       "      <td>23.275</td>\n",
       "      <td>23.389</td>\n",
       "      <td>38699.06</td>\n",
       "      <td>52743.10</td>\n",
       "      <td>55126.09</td>\n",
       "      <td>0.85</td>\n",
       "    </tr>\n",
       "    <tr>\n",
       "      <th>2017-12-20</th>\n",
       "      <td>23.61</td>\n",
       "      <td>23.96</td>\n",
       "      <td>23.33</td>\n",
       "      <td>23.20</td>\n",
       "      <td>43368.92</td>\n",
       "      <td>-0.14</td>\n",
       "      <td>-0.60</td>\n",
       "      <td>23.278</td>\n",
       "      <td>23.180</td>\n",
       "      <td>23.430</td>\n",
       "      <td>40910.18</td>\n",
       "      <td>54204.51</td>\n",
       "      <td>57245.14</td>\n",
       "      <td>1.09</td>\n",
       "    </tr>\n",
       "    <tr>\n",
       "      <th>2017-12-19</th>\n",
       "      <td>23.23</td>\n",
       "      <td>23.66</td>\n",
       "      <td>23.46</td>\n",
       "      <td>23.23</td>\n",
       "      <td>43068.70</td>\n",
       "      <td>0.31</td>\n",
       "      <td>1.34</td>\n",
       "      <td>23.374</td>\n",
       "      <td>23.053</td>\n",
       "      <td>23.526</td>\n",
       "      <td>45968.22</td>\n",
       "      <td>55134.09</td>\n",
       "      <td>58490.17</td>\n",
       "      <td>1.08</td>\n",
       "    </tr>\n",
       "    <tr>\n",
       "      <th>2017-12-18</th>\n",
       "      <td>23.00</td>\n",
       "      <td>23.49</td>\n",
       "      <td>23.13</td>\n",
       "      <td>22.83</td>\n",
       "      <td>29610.00</td>\n",
       "      <td>0.12</td>\n",
       "      <td>0.52</td>\n",
       "      <td>23.478</td>\n",
       "      <td>22.877</td>\n",
       "      <td>23.617</td>\n",
       "      <td>62395.75</td>\n",
       "      <td>58694.09</td>\n",
       "      <td>60331.46</td>\n",
       "      <td>0.74</td>\n",
       "    </tr>\n",
       "  </tbody>\n",
       "</table>\n",
       "</div>"
      ],
      "text/plain": [
       "             open   high  close    low    volume  price_change  p_change  \\\n",
       "date                                                                       \n",
       "2017-12-22  23.21  23.39  22.99  22.90  28394.00         -0.21     -0.91   \n",
       "2017-12-21  23.39  23.50  23.21  22.86  34005.55         -0.11     -0.47   \n",
       "2017-12-20  23.61  23.96  23.33  23.20  43368.92         -0.14     -0.60   \n",
       "2017-12-19  23.23  23.66  23.46  23.23  43068.70          0.31      1.34   \n",
       "2017-12-18  23.00  23.49  23.13  22.83  29610.00          0.12      0.52   \n",
       "\n",
       "               ma5    ma10    ma20     v_ma5    v_ma10    v_ma20  turnover  \n",
       "date                                                                        \n",
       "2017-12-22  23.224  23.313  23.316  35689.43  50210.29  53887.77      0.71  \n",
       "2017-12-21  23.226  23.275  23.389  38699.06  52743.10  55126.09      0.85  \n",
       "2017-12-20  23.278  23.180  23.430  40910.18  54204.51  57245.14      1.09  \n",
       "2017-12-19  23.374  23.053  23.526  45968.22  55134.09  58490.17      1.08  \n",
       "2017-12-18  23.478  22.877  23.617  62395.75  58694.09  60331.46      0.74  "
      ]
     },
     "execution_count": 46,
     "metadata": {},
     "output_type": "execute_result"
    }
   ],
   "source": [
    "data.head()"
   ]
  }
 ],
 "metadata": {
  "kernelspec": {
   "display_name": "Python 3",
   "language": "python",
   "name": "python3"
  },
  "language_info": {
   "codemirror_mode": {
    "name": "ipython",
    "version": 3
   },
   "file_extension": ".py",
   "mimetype": "text/x-python",
   "name": "python",
   "nbconvert_exporter": "python",
   "pygments_lexer": "ipython3",
   "version": "3.6.3"
  }
 },
 "nbformat": 4,
 "nbformat_minor": 2
}
